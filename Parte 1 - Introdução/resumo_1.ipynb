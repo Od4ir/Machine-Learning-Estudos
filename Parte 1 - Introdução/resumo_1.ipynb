{
 "cells": [
  {
   "attachments": {},
   "cell_type": "markdown",
   "metadata": {},
   "source": [
    "# Resumo 1 - Introduction"
   ]
  },
  {
   "attachments": {},
   "cell_type": "markdown",
   "metadata": {},
   "source": [
    "## Por que usar Machine Learning?\n",
    "- Alguns problemas que desejamos resolver computacionalmente podem não ser viáveis de serem resolvidos utilizando apenas uma sequência de passos lógicos, em um tipo de algoritmo convencional que já tem estabelecido suas respostas para determinadas entradas que recebe;\n",
    "- Ou, mesmo sendo viável, a solução pode ser extremamente complexa e deve considerar uma quantidade gigantesca de possibilidades;\n",
    "- Imagine por exemplo relizar previsões, ou processar e prever qual a próxima palavra mais provável dada uma palavra no texto, tentar reconhecer padrões dentro dados númericos muito extensos ou escrever um código que tem sua resposta variando de acordo com o tempo por exemplo;\n",
    "    - Alguns desses problemas também podem exigir do programador um conhecimento amplo acerca dos dados utilizados para entender como classificá-los e interpretá-los;\n",
    "- Para esse tipo de problema, são mais aplicáveis soluções que envolvem técnicas de Machine Learning - Pois, utilizando as técnicas corretas, a máquina é melhor em captar padrões e aprender de acordo os dados que recebe;"
   ]
  },
  {
   "attachments": {},
   "cell_type": "markdown",
   "metadata": {},
   "source": [
    "### Processo do Aprendizado:\n",
    "\n",
    "1) Desenho de um modelo (Um programa fléxivel com uma série de parâmetros que utiliza dos dados selecionados para fazer uma melhor escolha desses parâmetros);\n",
    "    - Um 'programa' que utiliza dados para escolher e determinar quais são os melhores parâmetros é chamado de \"algoritmo de aprendizado\" (learning algorithm);\n",
    "2) Apanhar os dados a serem utilizados para o aprendizado;\n",
    "3) Atualizar o modelo para que ele treine com os novos dados;\n",
    "4) Checar se o modelo é bom o suficiente e repetir a partir do passo 2;\n",
    "\n"
   ]
  },
  {
   "attachments": {},
   "cell_type": "markdown",
   "metadata": {},
   "source": [
    " ### Componentes Importantes:\n",
    "\n",
    " 1) Os dados a serem utilizados;\n",
    " 2) Um modelo de como transformar os dados;\n",
    " 3) Uma função que quantifique o quando bem ou mal o modelo está indo;\n",
    " 4) Um algoritmo que ajusta os parâmetros do modelo de acordo com os dados para otimizar resultados positivos da função que qualifica o modelo;"
   ]
  },
  {
   "attachments": {},
   "cell_type": "markdown",
   "metadata": {},
   "source": [
    "### Os Dados:\n",
    "\n",
    "Os dados que irão rodar no modelo podem ter diferentes atributos, por exemplo: Uma imagem tem a largura, comprimento e valores númericos representando a intensidade das cores vermelho, verde e azul. Cada imagem pode ser representada por um vetor que contém esses atributos. \n",
    "\n",
    "O número de atributos de cada um dos exemplos dos dados é chamado de dimensionalidade dos dados. Para o exemplo dado, teríamos 5 dimensões (comprimento, largura, intensidade do vermelho, intensidade do verde e intensidade do azul).\n",
    "\n",
    "Também podemos ter dados sem dimensão, como um texto por exemplo. Podemos ter 3 ou 2 palavras ou parágrafos enormes, é caso de uma <i>varying-length data</i>. Porém, nem todos os modelos conseguem lidar com esse caso de dimensão variável.\n",
    "\n",
    "O importante para se lembrar sobre os dados é que a qualidade dos mesmos é indispensável para a construção de um bom modelo. <i> Garbage in, garbage out!<i>"
   ]
  },
  {
   "attachments": {},
   "cell_type": "markdown",
   "metadata": {},
   "source": [
    "### Modelos\n",
    "\n",
    "Os modelos visam transformar os dados para obter alguma resposta, conclusão, previsão, classificação, enfim. Muitos utilizam probabilidade e estatísticas obtidas a partir dos dados (daí novamente a importância de se ter bons dados) e também modelos de <i>deep learnig</i> que envolvem transformações sucessivas nos dados. Iremos estudar mais a frente."
   ]
  },
  {
   "attachments": {},
   "cell_type": "markdown",
   "metadata": {},
   "source": [
    "### Objective Functions - Funções de Perda\n",
    "\n",
    "São funções que quantificam e qualificam o aprendizado realizado pelo modelo. Elas são o parâmetro de definição de o quão bom nosso modelo é. \n",
    "\n",
    "Geralmente, essas funções são chamadas de <i>Loss Functions</i> (Funções de Perda) pois quatificam o quanto o modelo está errando, perdendo, por assim dizer. Ou seja, geralmente, é claro que depende da implementação realizada, queremos diminuir o valor da função de perda. \n",
    "\n",
    "Exemplo - Para valores númericos, podemos ter como função de perda o somatório do quadrado da diferença entre a previsão feita e o valor correto. Assim, buscamos parâmetros que minimizem o valor dessa função, para que a previsão seja melhor. \n",
    "\n",
    "Geralmente, é convenção dividir os dados disponíveis em 2 partes:\n",
    " - Training Dataset;\n",
    " - Test Dataset;\n",
    "A primeira partição para treinar o modelo e a segunda para testar. Não se usa tudo para treinar, pois ao testar com os dados que usamos pra treinar, o modelo pode 'se lembrar' do que usou pra treinar e não revelar realmente o quão bom ou ruim está."
   ]
  },
  {
   "attachments": {},
   "cell_type": "markdown",
   "metadata": {},
   "source": [
    "### Algoritmos de Otimização\n",
    "\n",
    "Algoritmos para minimizarem o valor da função de perda (Ou maximizarem, dependendo da implementação). Um popular é chamado de <i>Gradient Descent</i>."
   ]
  },
  {
   "attachments": {},
   "cell_type": "markdown",
   "metadata": {},
   "source": [
    "## Tipos de Problemas de Machine Learning\n",
    "\n",
    "### Supervised Learning - Aprendizado Supervisionado\n",
    "\n",
    "Nesse tipo de aprendizado, temos um conjunto de dados com exemplos que possuem seus atributos e um rótulo (Classificação). A ideia é treinar o modelo com esses dados para prever a classificação e comparar essa previsão feita com o rótulo já pré-estabelecido.\n",
    "\n",
    "Para um modelo que envolve probabilidade por exemplo, podemos querer saber qual a classificação mais provável dado um vetor de atributos. Exemplos:\n",
    "- Determinar se é um cachorro ou um gato, dado uma foto de um cachorro ou gato;\n",
    "- Identificar uma forma dentro de uma image, dada uma imagem;\n",
    "- Prever se é cancêr ou não é, dada uma tomografia;\n",
    "\n",
    "#### Regressão\n",
    "\n",
    "O problema da regressão é dado quando os rótulos seguem valores numéricos arbitrários (mesmo dentro de um intervalo) chamamos o problema de um problema <b>Regressão</b>.\n",
    "\n",
    "Exemplos:\n",
    "- Dados vários atributos númericos de uma casa, você deseja comprar uma nova casa e estimar o valor dela dado alguns atributos que você deseja. Os dados variam de maneira arbitrária e existe alguma relação entre os valores do vetor da casa e o valor dela, o problema é estimar o valor dado um vetor;\n",
    "- Estimar quantas horas irá dura uma cirurgia. Você pode ter um vetor com informações como número de profissionais de saúde na sala, número de vezes que a pessoas ficou internada, etc, dados de valores arbitrários e você deseja, novamente, dado um vetor, estimar quantas horas a cirurgia pode levar;\n",
    "\n",
    "(É quase uma regra de 3)."
   ]
  }
 ],
 "metadata": {
  "language_info": {
   "name": "python"
  },
  "orig_nbformat": 4
 },
 "nbformat": 4,
 "nbformat_minor": 2
}
