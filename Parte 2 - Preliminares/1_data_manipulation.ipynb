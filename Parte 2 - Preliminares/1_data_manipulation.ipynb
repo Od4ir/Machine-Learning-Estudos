{
 "cells": [
  {
   "attachments": {},
   "cell_type": "markdown",
   "metadata": {},
   "source": [
    "# Data Manipulation - Manipulação dos Dados\n",
    "\n",
    "* Lembrete de como ativar o miniconda: conda activate d2l\n",
    "* Para desativar: conda deactivate\n",
    "\n",
    "Formas de armazenar e manipular os dados que iremos utilizar. Para armezanar esses dados podemos utilizar _vetores n-dimensionais_ chamados de **Tensors**.  Para isso, iremos utilizar bastante a biblioteca NumPy:\n",
    "\n",
    "[Guia inicial da biblioteca NumPy.](https://numpy.org/devdocs/user/quickstart.html)\n",
    "\n",
    "**PyTorch** - É um conjunto de ferramentas, bibliotecas e outras coisas que fornece uma estrutura para o desenvolvimento de modelos de IA. É baseado na estrutura dos tensores, citados anteriormente, e fornece várias tools para trabalhar com os dados nesse formato. O tensor apresenta algumas similaridades com os arrays do NumPy.\n",
    "\n",
    "Súmario:\n",
    "- Começando:\n",
    "    - Como criar tensores;\n",
    "- Index e Fatias:\n",
    "    - Como selecionar os elementos;\n",
    "    - Indexação;\n",
    "    - Fatias;\n",
    "- Operações:\n",
    "    - Realizar operações com os dados dos tensores;"
   ]
  },
  {
   "attachments": {},
   "cell_type": "markdown",
   "metadata": {},
   "source": [
    "## Começando:"
   ]
  },
  {
   "cell_type": "code",
   "execution_count": 42,
   "metadata": {},
   "outputs": [],
   "source": [
    "import torch # Estou importanto esse conjunto de ferramentas citado;"
   ]
  },
  {
   "attachments": {},
   "cell_type": "markdown",
   "metadata": {},
   "source": [
    "Um tensor pode ser classificado como um vetor, uma matriz ou um objeto de k<sup>th</sup> order-tensor. Veja abaixo algumas operações:"
   ]
  },
  {
   "cell_type": "code",
   "execution_count": 43,
   "metadata": {},
   "outputs": [
    {
     "name": "stdout",
     "output_type": "stream",
     "text": [
      "tensor([ 0.,  1.,  2.,  3.,  4.,  5.,  6.,  7.,  8.,  9., 10., 11.])\n",
      "tensor([10, 14, 18, 22, 26, 30, 34, 38, 42, 46, 50, 54, 58, 62, 66, 70, 74, 78,\n",
      "        82, 86, 90, 94, 98])\n"
     ]
    }
   ],
   "source": [
    "x = torch.arange(12, dtype=torch.float32) \n",
    "# Cria um tensor com valores de 0 a 11, com tipo de float;\n",
    "\n",
    "y = torch.arange(10, 100, 4, dtype=int)\n",
    "# Cria um tensor com valores inteiros de 10 a 100 dando um step de 4;\n",
    "\n",
    "print(x)\n",
    "print(y)"
   ]
  },
  {
   "attachments": {},
   "cell_type": "markdown",
   "metadata": {},
   "source": [
    "Para saber qual o número de elementos de um tensor:"
   ]
  },
  {
   "cell_type": "code",
   "execution_count": 44,
   "metadata": {},
   "outputs": [
    {
     "name": "stdout",
     "output_type": "stream",
     "text": [
      "12\n",
      "23\n"
     ]
    }
   ],
   "source": [
    "print(x.numel()) # Informa o número de elementos;\n",
    "print(y.numel()) "
   ]
  },
  {
   "attachments": {},
   "cell_type": "markdown",
   "metadata": {},
   "source": [
    "Para acessar o comprimento de um tensor ao longo do eixo x:"
   ]
  },
  {
   "cell_type": "code",
   "execution_count": 45,
   "metadata": {},
   "outputs": [
    {
     "data": {
      "text/plain": [
       "torch.Size([12])"
      ]
     },
     "execution_count": 45,
     "metadata": {},
     "output_type": "execute_result"
    }
   ],
   "source": [
    "# Para acessar o comprimento de um tensor ao lonfgo do eixo x:\n",
    "x.shape"
   ]
  },
  {
   "attachments": {},
   "cell_type": "markdown",
   "metadata": {},
   "source": [
    "Para mudar o formato de um tensor:"
   ]
  },
  {
   "cell_type": "code",
   "execution_count": 46,
   "metadata": {},
   "outputs": [
    {
     "name": "stdout",
     "output_type": "stream",
     "text": [
      "tensor([[ 0.,  1.,  2.,  3.],\n",
      "        [ 4.,  5.,  6.,  7.],\n",
      "        [ 8.,  9., 10., 11.]])\n"
     ]
    }
   ],
   "source": [
    "X = x.reshape(3, 4)\n",
    "print(X) # O tamanho deve continuar o mesmo 12 = 3.4;\n",
    "\n",
    "# Para não ter que especificar o tamanho, podemos usar o -1 no lugar do valor \n",
    "# que queremos que seja calculado automaticamente.\n"
   ]
  },
  {
   "cell_type": "code",
   "execution_count": 47,
   "metadata": {},
   "outputs": [
    {
     "data": {
      "text/plain": [
       "tensor([[[0., 0., 0., 0.],\n",
       "         [0., 0., 0., 0.],\n",
       "         [0., 0., 0., 0.]],\n",
       "\n",
       "        [[0., 0., 0., 0.],\n",
       "         [0., 0., 0., 0.],\n",
       "         [0., 0., 0., 0.]]])"
      ]
     },
     "execution_count": 47,
     "metadata": {},
     "output_type": "execute_result"
    }
   ],
   "source": [
    "torch.zeros((2, 3, 4))"
   ]
  },
  {
   "cell_type": "code",
   "execution_count": 48,
   "metadata": {},
   "outputs": [
    {
     "data": {
      "text/plain": [
       "tensor([[[1., 1., 1.],\n",
       "         [1., 1., 1.],\n",
       "         [1., 1., 1.],\n",
       "         [1., 1., 1.]],\n",
       "\n",
       "        [[1., 1., 1.],\n",
       "         [1., 1., 1.],\n",
       "         [1., 1., 1.],\n",
       "         [1., 1., 1.]],\n",
       "\n",
       "        [[1., 1., 1.],\n",
       "         [1., 1., 1.],\n",
       "         [1., 1., 1.],\n",
       "         [1., 1., 1.]]])"
      ]
     },
     "execution_count": 48,
     "metadata": {},
     "output_type": "execute_result"
    }
   ],
   "source": [
    "torch.ones((3, 4, 3))"
   ]
  },
  {
   "attachments": {},
   "cell_type": "markdown",
   "metadata": {},
   "source": [
    "Para iniciar um tensor de parâmetros aleatórios (que é como começa os parâmetros de uma rede neural geralmente) podemos fazer:"
   ]
  },
  {
   "cell_type": "code",
   "execution_count": 49,
   "metadata": {},
   "outputs": [
    {
     "data": {
      "text/plain": [
       "tensor([[ 0.9847,  0.5872, -0.5087,  0.3999],\n",
       "        [-0.5448,  1.0212,  0.8948,  0.8965],\n",
       "        [ 0.7884, -1.0708,  0.2646,  0.8684],\n",
       "        [ 2.3392,  0.4376,  0.3141,  0.3058],\n",
       "        [-0.7355,  1.0249, -0.5375,  0.6353]])"
      ]
     },
     "execution_count": 49,
     "metadata": {},
     "output_type": "execute_result"
    }
   ],
   "source": [
    "torch.randn(5, 4)# Os valores vem de uma distribuição normal.\n"
   ]
  },
  {
   "attachments": {},
   "cell_type": "markdown",
   "metadata": {},
   "source": [
    "Podemos também criar um tensor especificando os elementos:"
   ]
  },
  {
   "cell_type": "code",
   "execution_count": 50,
   "metadata": {},
   "outputs": [
    {
     "data": {
      "text/plain": [
       "tensor([[2, 1, 4, 3],\n",
       "        [1, 2, 3, 4],\n",
       "        [4, 3, 2, 1]])"
      ]
     },
     "execution_count": 50,
     "metadata": {},
     "output_type": "execute_result"
    }
   ],
   "source": [
    "torch.tensor([[2, 1, 4, 3], [1, 2, 3, 4], [4, 3, 2, 1]])"
   ]
  },
  {
   "attachments": {},
   "cell_type": "markdown",
   "metadata": {},
   "source": [
    "## Index e Fatias:"
   ]
  },
  {
   "attachments": {},
   "cell_type": "markdown",
   "metadata": {},
   "source": [
    "Para acessar, podemos fazer como uma lista normal do Python. O primeiro elemento começa em zero. Para acessar a partir do final pode-se usar valores negativos. E também é possível cortar fatias:"
   ]
  },
  {
   "cell_type": "code",
   "execution_count": 51,
   "metadata": {},
   "outputs": [
    {
     "name": "stdout",
     "output_type": "stream",
     "text": [
      "tensor([0., 1., 2., 3.])\n",
      "tensor([[ 4.,  5.,  6.,  7.],\n",
      "        [ 8.,  9., 10., 11.]])\n",
      "tensor([ 8.,  9., 10., 11.])\n"
     ]
    }
   ],
   "source": [
    "print(X[0])\n",
    "print(X[1:3])\n",
    "print(X[-1])"
   ]
  },
  {
   "attachments": {},
   "cell_type": "markdown",
   "metadata": {},
   "source": [
    "Elementos da matriz por índices:"
   ]
  },
  {
   "cell_type": "code",
   "execution_count": 52,
   "metadata": {},
   "outputs": [
    {
     "name": "stdout",
     "output_type": "stream",
     "text": [
      "tensor(10.)\n",
      "tensor(499.)\n"
     ]
    }
   ],
   "source": [
    "print(X[-1, 2])\n",
    "X[-1, 2] = 499 # Mudando o valor\n",
    "print(X[-1, 2])"
   ]
  },
  {
   "attachments": {},
   "cell_type": "markdown",
   "metadata": {},
   "source": [
    "Também é possível mudar tudo com fatias:"
   ]
  },
  {
   "cell_type": "code",
   "execution_count": 53,
   "metadata": {},
   "outputs": [
    {
     "data": {
      "text/plain": [
       "tensor([[  0.,  42.,  42.,   3.],\n",
       "        [  4.,  42.,  42.,   7.],\n",
       "        [  8.,   9., 499.,  11.]])"
      ]
     },
     "execution_count": 53,
     "metadata": {},
     "output_type": "execute_result"
    }
   ],
   "source": [
    "X[:2, 1:3] = 42 # Da 0 até a 1 linha, preencher os elementos da posição 1 até a 2 com 12;\n",
    "X"
   ]
  },
  {
   "attachments": {},
   "cell_type": "markdown",
   "metadata": {},
   "source": [
    "## Operações"
   ]
  },
  {
   "attachments": {},
   "cell_type": "markdown",
   "metadata": {},
   "source": [
    "Agora que sabemos criar e selecionar os dados dos tensores, podemos começar a fazer operações com os mesmos. "
   ]
  }
 ],
 "metadata": {
  "kernelspec": {
   "display_name": "d2l",
   "language": "python",
   "name": "python3"
  },
  "language_info": {
   "codemirror_mode": {
    "name": "ipython",
    "version": 3
   },
   "file_extension": ".py",
   "mimetype": "text/x-python",
   "name": "python",
   "nbconvert_exporter": "python",
   "pygments_lexer": "ipython3",
   "version": "3.9.16"
  },
  "orig_nbformat": 4
 },
 "nbformat": 4,
 "nbformat_minor": 2
}
