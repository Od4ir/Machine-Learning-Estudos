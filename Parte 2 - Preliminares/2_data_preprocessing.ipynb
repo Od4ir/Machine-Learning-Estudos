{
 "cells": [
  {
   "attachments": {},
   "cell_type": "markdown",
   "metadata": {},
   "source": [
    "# Data Preprocessing - Preprocessamento dos Dados"
   ]
  },
  {
   "attachments": {},
   "cell_type": "markdown",
   "metadata": {},
   "source": [
    "Para lidar com os dados geralmente utiliza-se bastante a bibliteca *pandas*. \n",
    "\n",
    "[pandas' tutorial](https://pandas.pydata.org/pandas-docs/stable/user_guide/10min.html)\n",
    "\n",
    "Esse resumo visa explicar bem superficialmente um pouco sobre a biblioteca *pandas*."
   ]
  },
  {
   "attachments": {},
   "cell_type": "markdown",
   "metadata": {},
   "source": [
    "## Lendo os Dados:"
   ]
  },
  {
   "attachments": {},
   "cell_type": "markdown",
   "metadata": {},
   "source": [
    "Arquivos CSV (Comma-separated Values) são bem comuns para armazenar os dados. Em cada linha de um arquivo .csv temos o registro de um exemplo, que pode seguir a seguinte estrutura:\n",
    "\n",
    ">id_do_exemplo;parametro1;parametro2;parametro3;...\n",
    "\n",
    "E assim por diante. O código abaixo exemplifica isso:"
   ]
  },
  {
   "cell_type": "code",
   "execution_count": 3,
   "metadata": {},
   "outputs": [],
   "source": [
    "import os \n",
    "\n",
    "os.makedirs(os.path.join('..', 'data'), exist_ok = True)\n",
    "# Fazendo o diretório para o arquivo. \n",
    "# Observe a pasta data que foi criada;\n",
    "\n",
    "data_file = os.path.join('..', 'data', 'casas.csv')\n",
    "# Criando o arquivo.\n",
    "\n",
    "with open(data_file, 'w') as f:\n",
    "    f.write('''NumRooms,RoofType,Price\n",
    "    NA,NA,127500\n",
    "    2,NA,106000\n",
    "    4,Slate,178100\n",
    "    NA,NA,140000''')\n",
    "# Escrevendo dentro do arquivo."
   ]
  },
  {
   "attachments": {},
   "cell_type": "markdown",
   "metadata": {},
   "source": [
    "Criamos um diretório com o nome de 'data' e nele foi criado o arquivo casa.csv onde iremos escrever algumas informações e aprender a lê-lo com a biblioteca panda. \n",
    "\n",
    "*Sobre a biblioteca 'os' utilizada - Ela permite uma interação com o sistema operacional, facilitando assim a manipulação de arquivos, que é o que estamos fazendo nesse exemplo.*"
   ]
  },
  {
   "attachments": {},
   "cell_type": "markdown",
   "metadata": {},
   "source": [
    "Abaixo, vamos ver como usar a biblioteca pandas:"
   ]
  },
  {
   "cell_type": "code",
   "execution_count": 4,
   "metadata": {},
   "outputs": [
    {
     "name": "stdout",
     "output_type": "stream",
     "text": [
      "  NumRooms RoofType   Price\n",
      "0       NA      NaN  127500\n",
      "1        2      NaN  106000\n",
      "2        4    Slate  178100\n",
      "3       NA      NaN  140000\n"
     ]
    }
   ],
   "source": [
    "import pandas as pd\n",
    "# Perceba que data_file já contém o path para o caminho onde está\n",
    "# o arquivo.\n",
    "\n",
    "data = pd.read_csv(data_file)\n",
    "print(data)"
   ]
  },
  {
   "attachments": {},
   "cell_type": "markdown",
   "metadata": {},
   "source": [
    "## Data Preparation - Preparação dos Dados"
   ]
  },
  {
   "attachments": {},
   "cell_type": "markdown",
   "metadata": {},
   "source": [
    "Para aprendizamos supervisionados, os rótulos são importantes, então é importante separar as colunas do que será passado como entrada e o que será saída. \n",
    "\n",
    "É possível obter um dataset com dados faltando, buracos. Nesse caso, como podemos ver acima, a biblioteca pandas preeche-os com NaN (Not a Number). Para lidar com isso é possível:\n",
    "    - Colocar valores nesses buracos;\n",
    "        - Esses valores serão estimados de alguma forma;\n",
    "    - Excluir as colunas inteiras com esses buracos;"
   ]
  }
 ],
 "metadata": {
  "kernelspec": {
   "display_name": "d2l",
   "language": "python",
   "name": "python3"
  },
  "language_info": {
   "codemirror_mode": {
    "name": "ipython",
    "version": 3
   },
   "file_extension": ".py",
   "mimetype": "text/x-python",
   "name": "python",
   "nbconvert_exporter": "python",
   "pygments_lexer": "ipython3",
   "version": "3.9.16"
  },
  "orig_nbformat": 4
 },
 "nbformat": 4,
 "nbformat_minor": 2
}
