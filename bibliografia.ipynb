{
 "cells": [
  {
   "attachments": {},
   "cell_type": "markdown",
   "metadata": {},
   "source": [
    "# Bibliografia Utilizada:\n",
    "\n",
    "1 - Dive Into Deep Learning:\n",
    "[d2l](https://d2l.ai/)\n",
    "\n",
    "2 - Deep Learning Book: [Deep Learning Book](https://www.deeplearningbook.com.br/capitulos/page/4/)"
   ]
  }
 ],
 "metadata": {
  "language_info": {
   "name": "python"
  },
  "orig_nbformat": 4
 },
 "nbformat": 4,
 "nbformat_minor": 2
}
