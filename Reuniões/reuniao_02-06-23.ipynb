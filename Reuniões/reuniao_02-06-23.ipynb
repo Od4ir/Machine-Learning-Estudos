{
 "cells": [
  {
   "cell_type": "code",
   "execution_count": null,
   "metadata": {},
   "outputs": [],
   "source": []
  },
  {
   "attachments": {},
   "cell_type": "markdown",
   "metadata": {},
   "source": [
    "Forward Propagation -  O avanço;\n",
    "Back Propagation - A atualização de todos os parâmetros da rede;\n",
    "\n",
    "Vai indo e voltando até chegar no resultado esperado. Quando o erro se estabiliza; O erro anterior vs. o erro atual.\n",
    "Hiperplano;\n",
    "Viés;\n",
    "\n",
    "Se avança e depois volta corrigindo.\n",
    "\n",
    "Atualiza-se os pesos;\n",
    "\n",
    "w = w - a.d_cursto/d_w (Atualização dos pesos);\n",
    "a - Learning rate; - Vai diminuindo a lerning rate (Como definir?);\n",
    "    - Muito grande, pode passar do ponto ideal;\n",
    "    - Vetor gradiente;\n",
    "\n",
    "\n",
    "Inicializa aleatoriamente\n",
    "Faz o forward\n",
    "Calcula os custos\n",
    "Volta corrigindo os pesos;\n",
    "\n",
    "Mustafa;\n",
    "\n"
   ]
  }
 ],
 "metadata": {
  "language_info": {
   "name": "python"
  },
  "orig_nbformat": 4
 },
 "nbformat": 4,
 "nbformat_minor": 2
}
