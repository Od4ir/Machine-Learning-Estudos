{
 "cells": [
  {
   "attachments": {},
   "cell_type": "markdown",
   "metadata": {},
   "source": [
    "# Reunião 19/05/2023\n",
    "\n",
    "## Multilayer Perceptron\n",
    "\n",
    "O que é? É um perceptron de multicamadas.\n",
    "A ideia do perceptron era conseguir dividir dados por uma 'reta'. O que pode não muito eficiente quando os pontos estão numa disposição que não permita essa separação.\n",
    "\n",
    "A ideia do Multilayer Perceptron é aproximar uma curva para a separação dos dados;\n",
    "\n",
    "### Como funciona o Perceptron normal?\n",
    "\n",
    "Portas Lógicas:\n",
    "- AND & OR\n",
    "    - Entender os resultados que deram 0 como de uma determinada classe e os que deram 1 como de outra classe; (Somente no caso 1 AND 1 teríamos 1);\n",
    "    - O algoritmo do Perceptron é bom para resolver um problema que se comporta dessa forma;\n",
    "- XOR\n",
    "    - Só dá 1 quando é 0 e 1 ou 1 e 0;\n",
    "    - Para isso dá para usar 'dois perceptron'(?);\n",
    "    - Não dá para usar o perceptron para separar nesse caso;\n",
    "\n",
    "\n",
    "## Problemas do XOR\n",
    "Dividir os valores que resultam de um XOR; [Foto]"
   ]
  },
  {
   "attachments": {},
   "cell_type": "markdown",
   "metadata": {},
   "source": [
    "## Coisas que eu ainda não sei o que é:\n",
    "\n",
    "- Função sigmoid;\n",
    "- Perceptron;\n",
    "- Degrau;\n",
    "- Função de ativação;\n",
    "- Inverno da IA - Problema do XOR - Backpropagation;\n",
    "- BIAS(?);\n",
    "- Teorema da Aproximação Universal;"
   ]
  },
  {
   "attachments": {},
   "cell_type": "markdown",
   "metadata": {},
   "source": [
    "Redes Neurais - BackPropagation\n",
    "Fit Forward(?)"
   ]
  }
 ],
 "metadata": {
  "language_info": {
   "name": "python"
  },
  "orig_nbformat": 4
 },
 "nbformat": 4,
 "nbformat_minor": 2
}
